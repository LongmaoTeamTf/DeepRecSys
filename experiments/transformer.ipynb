{
 "metadata": {
  "language_info": {
   "codemirror_mode": {
    "name": "ipython",
    "version": 3
   },
   "file_extension": ".py",
   "mimetype": "text/x-python",
   "name": "python",
   "nbconvert_exporter": "python",
   "pygments_lexer": "ipython3",
   "version": "3.7.3-final"
  },
  "orig_nbformat": 2,
  "kernelspec": {
   "name": "python3",
   "display_name": "Python 3.7.3 64-bit ('base': conda)",
   "metadata": {
    "interpreter": {
     "hash": "a578eb21eb1f0ffbce406cca18fb76957b43a943c95f6e1cf142c9c0a29ae48e"
    }
   }
  }
 },
 "nbformat": 4,
 "nbformat_minor": 2,
 "cells": [
  {
   "source": [
    "# Transformer 模型\n",
    "\n",
    "Attention Is All You Need\n",
    "\n",
    "https://arxiv.org/abs/1706.03762\n"
   ],
   "cell_type": "markdown",
   "metadata": {}
  },
  {
   "cell_type": "code",
   "execution_count": 1,
   "metadata": {},
   "outputs": [],
   "source": [
    "import sys\n",
    "sys.path.append(\"..\")\n",
    "sys.dont_write_bytecode = True\n",
    "\n",
    "import tensorflow as tf\n",
    "\n",
    "from deep_recommenders.layers.nlp.transformer import Transformer"
   ]
  },
  {
   "cell_type": "code",
   "execution_count": 2,
   "metadata": {},
   "outputs": [],
   "source": [
    "vocab_size = 5000\n",
    "max_len = 256\n",
    "\n",
    "(x_train, y_train), (x_test, y_test) = tf.keras.datasets.imdb.load_data(maxlen=max_len, num_words=vocab_size)\n",
    "x_train = tf.keras.preprocessing.sequence.pad_sequences(x_train, maxlen=max_len)\n",
    "x_test = tf.keras.preprocessing.sequence.pad_sequences(x_test, maxlen=max_len)\n",
    "x_train_masks = tf.equal(x_train, 0)\n",
    "x_test_masks = tf.equal(x_test, 0)\n",
    "y_train = tf.keras.utils.to_categorical(y_train)\n",
    "y_test = tf.keras.utils.to_categorical(y_test)"
   ]
  },
  {
   "cell_type": "code",
   "execution_count": 4,
   "metadata": {},
   "outputs": [
    {
     "output_type": "stream",
     "name": "stdout",
     "text": [
      "WARNING:tensorflow:From /Users/wangyao/anaconda3/lib/python3.7/site-packages/tensorflow/python/ops/linalg/linear_operator_lower_triangular.py:167: calling LinearOperator.__init__ (from tensorflow.python.ops.linalg.linear_operator) with graph_parents is deprecated and will be removed in a future version.\nInstructions for updating:\nDo not pass `graph_parents`.  They will  no longer be used.\n"
     ]
    }
   ],
   "source": [
    "model_dim = 8\n",
    "batch_size = 128\n",
    "epochs = 10\n",
    "\n",
    "encoder_inputs = tf.keras.Input(shape=(max_len,), name='encoder_inputs')\n",
    "decoder_inputs = tf.keras.Input(shape=(max_len,), name='decoder_inputs')\n",
    "outputs = Transformer(\n",
    "    vocab_size, \n",
    "    model_dim, \n",
    "    n_heads=2, \n",
    "    encoder_stack=2,\n",
    "    decoder_stack=2, \n",
    "    feed_forward_size=50\n",
    ")([encoder_inputs, decoder_inputs])\n",
    "outputs = tf.keras.layers.GlobalAveragePooling1D()(outputs)\n",
    "outputs = tf.keras.layers.Dense(2, activation='softmax')(outputs)\n",
    "model = tf.keras.Model(inputs=[encoder_inputs, decoder_inputs], outputs=outputs)\n",
    "\n",
    "model.compile(optimizer=tf.keras.optimizers.Adam(beta_1=0.9, beta_2=0.98, epsilon=1e-9), \n",
    "    loss='categorical_crossentropy', metrics=['accuracy'])"
   ]
  },
  {
   "cell_type": "code",
   "execution_count": 5,
   "metadata": {},
   "outputs": [
    {
     "output_type": "error",
     "ename": "NameError",
     "evalue": "name 'EarlyStopping' is not defined",
     "traceback": [
      "\u001b[0;31m---------------------------------------------------------------------------\u001b[0m",
      "\u001b[0;31mNameError\u001b[0m                                 Traceback (most recent call last)",
      "\u001b[0;32m<ipython-input-5-bb1781dc0929>\u001b[0m in \u001b[0;36m<module>\u001b[0;34m\u001b[0m\n\u001b[0;32m----> 1\u001b[0;31m \u001b[0mes\u001b[0m \u001b[0;34m=\u001b[0m \u001b[0mEarlyStopping\u001b[0m\u001b[0;34m(\u001b[0m\u001b[0mpatience\u001b[0m\u001b[0;34m=\u001b[0m\u001b[0;36m3\u001b[0m\u001b[0;34m)\u001b[0m\u001b[0;34m\u001b[0m\u001b[0;34m\u001b[0m\u001b[0m\n\u001b[0m\u001b[1;32m      2\u001b[0m model.fit([x_train, x_train_masks], y_train, \n\u001b[1;32m      3\u001b[0m     batch_size=batch_size, epochs=epochs, validation_split=0.2, callbacks=[es])\n",
      "\u001b[0;31mNameError\u001b[0m: name 'EarlyStopping' is not defined"
     ]
    }
   ],
   "source": [
    "es = tf.keras.callbacks.EarlyStopping(patience=3)\n",
    "model.fit([x_train, x_train_masks], y_train, \n",
    "    batch_size=batch_size, epochs=epochs, validation_split=0.2, callbacks=[es])"
   ]
  },
  {
   "cell_type": "code",
   "execution_count": null,
   "metadata": {},
   "outputs": [],
   "source": [
    "test_metrics = model.evaluate([x_test, x_test_masks], y_test, batch_size=batch_size, verbose=0)\n",
    "print(\"loss on Test: %.4f\" % test_metrics[0])\n",
    "print(\"accu on Test: %.4f\" % test_metrics[1])"
   ]
  }
 ]
}